{
 "cells": [
  {
   "cell_type": "markdown",
   "metadata": {},
   "source": [
    "### FUNCTIONS:\n",
    "- code reusability\n",
    "- simpler\n",
    "- program can be further divided into subprograms\n"
   ]
  },
  {
   "cell_type": "markdown",
   "metadata": {},
   "source": [
    "#### SYNTAX:\n",
    "- def functionname(<parameters>):\n",
    "    \n",
    "    \n",
    "    statements\n",
    "    return statement(optional)"
   ]
  },
  {
   "cell_type": "code",
   "execution_count": 1,
   "metadata": {},
   "outputs": [
    {
     "data": {
      "text/plain": [
       "6"
      ]
     },
     "execution_count": 1,
     "metadata": {},
     "output_type": "execute_result"
    }
   ],
   "source": [
    "# read a number\n",
    "# sum of even digits from the given number\n",
    "# input 1234\n",
    "# output 6\n",
    "def evendigitsum(n):\n",
    "    sum=0\n",
    "    while n!=0:\n",
    "        r=n%10        #1234%10=4\n",
    "        if r%2==0:\n",
    "            sum=sum+r\n",
    "        n=n//10       #1234//10=123\n",
    "    return sum\n",
    "evendigitsum(1234)"
   ]
  },
  {
   "cell_type": "code",
   "execution_count": 2,
   "metadata": {},
   "outputs": [
    {
     "name": "stdout",
     "output_type": "stream",
     "text": [
      "9\n"
     ]
    }
   ],
   "source": [
    "# input:17946\n",
    "# output:9(largest digit of the given number)\n",
    "def largestdigit(n):\n",
    "    large=0\n",
    "    while n!=0:\n",
    "        r=n%10\n",
    "        if large<r:\n",
    "            large=r\n",
    "        n=n//10\n",
    "    print(large)\n",
    "largestdigit(246895)\n",
    "        "
   ]
  },
  {
   "cell_type": "markdown",
   "metadata": {},
   "source": [
    "# for loop:\n",
    "### syntax:\n",
    "- for variable_name in iterable_obj:\n",
    " \n",
    "   - statements\n",
    " \n",
    "- for variable_name in range(start,stop,stop):\n",
    " \n",
    "   - statements\n",
    " \n",
    " "
   ]
  },
  {
   "cell_type": "code",
   "execution_count": 11,
   "metadata": {},
   "outputs": [
    {
     "name": "stdout",
     "output_type": "stream",
     "text": [
      "0\n",
      "2\n",
      "4\n",
      "6\n",
      "8\n",
      "10\n"
     ]
    }
   ],
   "source": [
    "for i in range(0,10+1,2):    # 2 means it skips two numbers in between\n",
    "    print(i)"
   ]
  },
  {
   "cell_type": "code",
   "execution_count": 14,
   "metadata": {},
   "outputs": [
    {
     "name": "stdout",
     "output_type": "stream",
     "text": [
      "12 14 16 18 20 22 24 26 28 "
     ]
    }
   ],
   "source": [
    "# function to print the alternate numbers:\n",
    "# (500,520)-- 502,504,506,-------,516,518,520\n",
    "def alternatenumber(a,b):\n",
    "    for i in range(a,b,2):\n",
    "        print(i,end=\" \")\n",
    "alternatenumber(12,30)"
   ]
  },
  {
   "cell_type": "markdown",
   "metadata": {},
   "source": [
    "## collection types:\n",
    " - list\n",
    " - tuple\n",
    " - set\n",
    " - doctionary\n",
    " "
   ]
  },
  {
   "cell_type": "markdown",
   "metadata": {},
   "source": [
    "### Lists:\n",
    "  - list is one of the datastructure in python\n",
    "  - lists are enabled in []\n",
    "  - list =[1,2,3,4]\n",
    "  - lists will accept multiple datatypes"
   ]
  },
  {
   "cell_type": "code",
   "execution_count": 18,
   "metadata": {},
   "outputs": [
    {
     "name": "stdout",
     "output_type": "stream",
     "text": [
      "2\n",
      "python\n",
      "[3.5, 'gitam']\n",
      "[3.5]\n"
     ]
    }
   ],
   "source": [
    "li=[2,3.5,'gitam','python']\n",
    "type(li)\n",
    "print(li[0])\n",
    "print(li[-1])\n",
    "print(li[1:3])\n",
    "print(li[1:2])"
   ]
  },
  {
   "cell_type": "code",
   "execution_count": null,
   "metadata": {},
   "outputs": [],
   "source": []
  },
  {
   "cell_type": "code",
   "execution_count": null,
   "metadata": {},
   "outputs": [],
   "source": []
  }
 ],
 "metadata": {
  "kernelspec": {
   "display_name": "Python 3",
   "language": "python",
   "name": "python3"
  },
  "language_info": {
   "codemirror_mode": {
    "name": "ipython",
    "version": 3
   },
   "file_extension": ".py",
   "mimetype": "text/x-python",
   "name": "python",
   "nbconvert_exporter": "python",
   "pygments_lexer": "ipython3",
   "version": "3.7.4"
  }
 },
 "nbformat": 4,
 "nbformat_minor": 2
}
